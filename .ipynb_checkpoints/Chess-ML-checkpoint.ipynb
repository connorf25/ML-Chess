{
 "cells": [
  {
   "cell_type": "code",
   "execution_count": 19,
   "metadata": {},
   "outputs": [],
   "source": [
    "# import pandas as pd\n",
    "import chess.pgn\n",
    "import numpy as np"
   ]
  },
  {
   "cell_type": "code",
   "execution_count": 2,
   "metadata": {},
   "outputs": [],
   "source": [
    "# # Not used for now\n",
    "# # Read data\n",
    "# games = pd.read_csv(\"./2020_2000ELO_Standard.pgn\", sep='delimiter', header=None)\n",
    "# # Filter just game moves\n",
    "# games = games[games[0].str.startswith(\"1.\")]\n",
    "# # Rename column 0 to pgn\n",
    "# games.rename(columns={0:'pgn'}, inplace=True)\n",
    "# # Drop index\n",
    "# games.reset_index(drop=True)"
   ]
  },
  {
   "cell_type": "code",
   "execution_count": 2,
   "metadata": {},
   "outputs": [],
   "source": [
    "# Import all pgn games with python chess\n",
    "pgn = open(\"./2020_2000ELO_Standard.pgn\")\n",
    "\n",
    "games = []\n",
    "\n",
    "while True:\n",
    "    game = chess.pgn.read_game(pgn)\n",
    "    if game is None:\n",
    "        break  # end of file\n",
    "    games.append(game)"
   ]
  },
  {
   "cell_type": "code",
   "execution_count": 30,
   "metadata": {},
   "outputs": [],
   "source": [
    "def fen_to_matrix(fen):\n",
    "    # TODO: Flip when players are reversed\n",
    "    print(fen)\n",
    "    board = []\n",
    "    pieces = ['K', 'Q', 'R', 'B', 'N', 'P', 'k', 'q', 'r', 'b', 'n', 'p']\n",
    "    # Take just the board\n",
    "    fen = fen.split(' ')[0]\n",
    "    # Split by rows\n",
    "    rows = fen.split('/')\n",
    "    # For each piece mark the corresponding matrix location with a 1\n",
    "    for piece in pieces:\n",
    "        piece_map = np.zeros((8,8), dtype='int')\n",
    "        for i, row in enumerate(rows):\n",
    "            j = 0\n",
    "            for char in row:\n",
    "                if char is piece:\n",
    "                    piece_map[i][j] = 1\n",
    "                    j += 1\n",
    "                elif char.isdigit():\n",
    "                    j += int(char)\n",
    "                else:\n",
    "                    j += 1\n",
    "                    \n",
    "        board.append(piece_map)\n",
    "    return np.array(board)"
   ]
  },
  {
   "cell_type": "code",
   "execution_count": null,
   "metadata": {},
   "outputs": [],
   "source": [
    "board = fen_to_matrix(games[0].board().fen())\n",
    "print(board)"
   ]
  },
  {
   "cell_type": "code",
   "execution_count": 36,
   "metadata": {},
   "outputs": [],
   "source": [
    "def move_to_coords(move):\n",
    "    coords = [-1, -1]\n",
    "    # Coords are the opposite order of UCI to maintain [Row, Column] order\n",
    "    # Letter component\n",
    "    coords[1] = ord(move[0]) - 97\n",
    "    # Number component\n",
    "    coords[0] = int(move[1]) - 1\n",
    "    # Check for invalid coordinates\n",
    "    if any(i < 0 for i in coords):\n",
    "        print(\"ERROR - INVALID COORDINATES\", coords)\n",
    "    return coords\n",
    "\n",
    "def uci_to_move_matrix(uci):\n",
    "    if uci == '0000':\n",
    "        print(\"ERROR - NULL MOVE:\", uci)\n",
    "        \n",
    "    # There is no promotion\n",
    "    if len(uci) == 4:\n",
    "        start = uci[:2]\n",
    "        end = uci[2:]\n",
    "        # Todo, calculate difference of coords to work out what move it is (out of the 52 in the alphazero paper)\n",
    "        print(move_to_coords(start), move_to_coords(end))\n",
    "        \n",
    "    # There is a promotion\n",
    "    elif len(uci) == 5:\n",
    "        print(uci)\n",
    "        \n",
    "    else:\n",
    "        print(\"ERROR - UNRECOGNISED UCI:\", uci)\n",
    "        "
   ]
  },
  {
   "cell_type": "code",
   "execution_count": 35,
   "metadata": {},
   "outputs": [
    {
     "name": "stdout",
     "output_type": "stream",
     "text": [
      "[0, 6] [2, 7]\n",
      "[0, 6] [2, 5]\n",
      "[0, 1] [2, 2]\n",
      "[0, 1] [2, 0]\n",
      "[1, 7] [2, 7]\n",
      "[1, 6] [2, 6]\n",
      "[1, 5] [2, 5]\n",
      "[1, 4] [2, 4]\n",
      "[1, 3] [2, 3]\n",
      "[1, 2] [2, 2]\n",
      "[1, 1] [2, 1]\n",
      "[1, 0] [2, 0]\n",
      "[1, 7] [3, 7]\n",
      "[1, 6] [3, 6]\n",
      "[1, 5] [3, 5]\n",
      "[1, 4] [3, 4]\n",
      "[1, 3] [3, 3]\n",
      "[1, 2] [3, 2]\n",
      "[1, 1] [3, 1]\n",
      "[1, 0] [3, 0]\n"
     ]
    }
   ],
   "source": [
    "board = games[0].board()\n",
    "legal_moves = board.legal_moves\n",
    "for move in legal_moves:\n",
    "    uci_to_move_matrix(move.uci())\n",
    "    # Function to take move and return matrix"
   ]
  },
  {
   "cell_type": "code",
   "execution_count": 4,
   "metadata": {},
   "outputs": [
    {
     "name": "stdout",
     "output_type": "stream",
     "text": [
      "r . b . . . k .\n",
      ". p . . b . P .\n",
      ". . . . p r N .\n",
      ". . . . . p Q B\n",
      ". . . q . . . .\n",
      ". P . . . n . .\n",
      ". . . . . . P P\n",
      "q . . . . . . K\n",
      "r1b3k1/1p2b1P1/4prN1/5pQB/3q4/1P3n2/6PP/q6K w - - 2 36\n"
     ]
    }
   ],
   "source": [
    "board = games[0].board()\n",
    "for move in games[0].mainline_moves():\n",
    "    board.push(move)\n",
    "print(board)\n",
    "print(board.fen())"
   ]
  }
 ],
 "metadata": {
  "kernelspec": {
   "display_name": "Python 3",
   "language": "python",
   "name": "python3"
  },
  "language_info": {
   "codemirror_mode": {
    "name": "ipython",
    "version": 3
   },
   "file_extension": ".py",
   "mimetype": "text/x-python",
   "name": "python",
   "nbconvert_exporter": "python",
   "pygments_lexer": "ipython3",
   "version": "3.8.5"
  }
 },
 "nbformat": 4,
 "nbformat_minor": 4
}
